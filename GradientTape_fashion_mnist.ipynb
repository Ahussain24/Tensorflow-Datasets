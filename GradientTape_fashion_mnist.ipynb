{
  "cells": [
    {
      "cell_type": "markdown",
      "metadata": {
        "id": "1vkWehEz_34l"
      },
      "source": [
        "\n",
        "**1 -Import Relevent Packages and Libraries**"
      ]
    },
    {
      "cell_type": "code",
      "execution_count": null,
      "metadata": {
        "id": "cJYb-e-6_34s"
      },
      "outputs": [],
      "source": [
        "import numpy as np\n",
        "import tensorflow as tf\n",
        "import matplotlib.pyplot as plt\n",
        "from tensorflow.python.framework.ops import EagerTensor\n",
        "from tensorflow.python.ops.resource_variable_ops import ResourceVariable\n",
        "import time"
      ]
    },
    {
      "cell_type": "markdown",
      "metadata": {
        "id": "FgvBnyom_35G"
      },
      "source": [
        "\n",
        "**2 - Basic Optimization with GradientTape**\n",
        "\n",
        "The beauty of TensorFlow 2 is in its simplicity. Basically, all you need to do is implement forward propagation through a computational graph. TensorFlow will compute the derivatives for you, by moving backwards through the graph recorded with `GradientTape`. All that's left for you to do then is specify the cost function and optimizer you want to use! \n",
        "\n"
      ]
    },
    {
      "cell_type": "markdown",
      "source": [
        "We will Use the Fashion Mnsist Dataset from Tensorflow dataset"
      ],
      "metadata": {
        "id": "Y_xigXWT0a-d"
      }
    },
    {
      "cell_type": "code",
      "execution_count": null,
      "metadata": {
        "colab": {
          "base_uri": "https://localhost:8080/"
        },
        "id": "AQCRU2Z9_35V",
        "outputId": "55e97b40-fea7-4dbd-e72b-0f0c01cdca94"
      },
      "outputs": [
        {
          "output_type": "stream",
          "name": "stdout",
          "text": [
            "Downloading data from https://storage.googleapis.com/tensorflow/tf-keras-datasets/train-labels-idx1-ubyte.gz\n",
            "32768/29515 [=================================] - 0s 0us/step\n",
            "40960/29515 [=========================================] - 0s 0us/step\n",
            "Downloading data from https://storage.googleapis.com/tensorflow/tf-keras-datasets/train-images-idx3-ubyte.gz\n",
            "26427392/26421880 [==============================] - 0s 0us/step\n",
            "26435584/26421880 [==============================] - 0s 0us/step\n",
            "Downloading data from https://storage.googleapis.com/tensorflow/tf-keras-datasets/t10k-labels-idx1-ubyte.gz\n",
            "16384/5148 [===============================================================================================] - 0s 0us/step\n",
            "Downloading data from https://storage.googleapis.com/tensorflow/tf-keras-datasets/t10k-images-idx3-ubyte.gz\n",
            "4423680/4422102 [==============================] - 0s 0us/step\n",
            "4431872/4422102 [==============================] - 0s 0us/step\n"
          ]
        }
      ],
      "source": [
        "(x_train,y_train),(x_test,y_test) = tf.keras.datasets.fashion_mnist.load_data()"
      ]
    },
    {
      "cell_type": "code",
      "execution_count": null,
      "metadata": {
        "id": "ijpVYwFW_35c"
      },
      "outputs": [],
      "source": [
        "x_train = tf.data.Dataset.from_tensor_slices(x_train)\n",
        "y_train = tf.data.Dataset.from_tensor_slices(y_train)\n",
        "\n",
        "x_test = tf.data.Dataset.from_tensor_slices(x_test)\n",
        "y_test = tf.data.Dataset.from_tensor_slices(y_test)"
      ]
    },
    {
      "cell_type": "code",
      "execution_count": null,
      "metadata": {
        "colab": {
          "base_uri": "https://localhost:8080/"
        },
        "id": "yJHFqw9-_35h",
        "outputId": "8f893251-25d5-449c-c85b-2074e8bf485b"
      },
      "outputs": [
        {
          "output_type": "execute_result",
          "data": {
            "text/plain": [
              "tensorflow.python.data.ops.dataset_ops.TensorSliceDataset"
            ]
          },
          "metadata": {},
          "execution_count": 5
        }
      ],
      "source": [
        "type(x_train)"
      ]
    },
    {
      "cell_type": "markdown",
      "metadata": {
        "id": "HgGSNo5z_35m"
      },
      "source": [
        "Since TensorFlow Datasets are generators, we can't access directly the contents unless you iterate over them in a for loop, or by explicitly creating a Python iterator using `iter` and consuming its\n",
        "elements using `next`. Also, you can inspect the `shape` and `dtype` of each element using the `element_spec` attribute."
      ]
    },
    {
      "cell_type": "code",
      "execution_count": null,
      "metadata": {
        "colab": {
          "base_uri": "https://localhost:8080/"
        },
        "id": "A63WUzgP_35u",
        "outputId": "bfa22671-94f5-4e51-e8f0-d8413a844341"
      },
      "outputs": [
        {
          "output_type": "stream",
          "name": "stdout",
          "text": [
            "TensorSpec(shape=(28, 28), dtype=tf.uint8, name=None)\n"
          ]
        }
      ],
      "source": [
        "print(x_train.element_spec)"
      ]
    },
    {
      "cell_type": "code",
      "execution_count": null,
      "metadata": {
        "colab": {
          "base_uri": "https://localhost:8080/"
        },
        "id": "MurlmgL0_35z",
        "outputId": "cae9207e-9196-488f-82a4-b852322d8577"
      },
      "outputs": [
        {
          "output_type": "stream",
          "name": "stdout",
          "text": [
            "TensorSpec(shape=(), dtype=tf.uint8, name=None)\n"
          ]
        }
      ],
      "source": [
        "print(y_train.element_spec)"
      ]
    },
    {
      "cell_type": "markdown",
      "metadata": {
        "id": "VjP2RZj1_36X"
      },
      "source": [
        "The fashion mnsist dataset that we are using  contains 10 different classes representing the digits from 0 to 9 "
      ]
    },
    {
      "cell_type": "markdown",
      "metadata": {
        "id": "vmUOmc3W_36c"
      },
      "source": [
        "You can see some of the images in the dataset by running the following cell."
      ]
    },
    {
      "cell_type": "code",
      "source": [
        "category_list = ['T-shirt/top','Trouser','Pullover','Dress','Coat','Sandal','Shirt','Sneaker','Bag','Ankle boot']\n",
        "\n",
        "category_dict = {i : j for i , j  in enumerate(category_list) }"
      ],
      "metadata": {
        "id": "1uAdICAIC7Hs"
      },
      "execution_count": null,
      "outputs": []
    },
    {
      "cell_type": "code",
      "source": [
        "category_dict"
      ],
      "metadata": {
        "colab": {
          "base_uri": "https://localhost:8080/"
        },
        "id": "_xZnKD0hD2NC",
        "outputId": "fe17fd21-5211-4a9c-eea6-85fce7bc22e3"
      },
      "execution_count": null,
      "outputs": [
        {
          "output_type": "execute_result",
          "data": {
            "text/plain": [
              "{0: 'T-shirt/top',\n",
              " 1: 'Trouser',\n",
              " 2: 'Pullover',\n",
              " 3: 'Dress',\n",
              " 4: 'Coat',\n",
              " 5: 'Sandal',\n",
              " 6: 'Shirt',\n",
              " 7: 'Sneaker',\n",
              " 8: 'Bag',\n",
              " 9: 'Ankle boot'}"
            ]
          },
          "metadata": {},
          "execution_count": 9
        }
      ]
    },
    {
      "cell_type": "code",
      "execution_count": null,
      "metadata": {
        "id": "o3Z0h-m0_36f"
      },
      "outputs": [],
      "source": [
        "def plot_images(x_train,y_train,categories) :\n",
        "\n",
        "  images = iter(x_train)\n",
        "  labels = iter(y_train)\n",
        "\n",
        "  plt.figure(figsize=(10, 10))\n",
        "  for i in range(16):\n",
        "    ax = plt.subplot(4, 4, i + 1)\n",
        "    plt.imshow(next(images).numpy().astype(\"uint8\"),cmap='gray')\n",
        "    plt.title( categories[next(labels).numpy().astype(\"uint8\")] )\n",
        "    plt.axis(\"off\")\n"
      ]
    },
    {
      "cell_type": "code",
      "source": [
        "plot_images(x_train,y_train,category_dict)"
      ],
      "metadata": {
        "colab": {
          "base_uri": "https://localhost:8080/",
          "height": 591
        },
        "id": "2c9PYx0cELvt",
        "outputId": "eb622c13-a6cb-48d6-e791-2b08c07cea6b"
      },
      "execution_count": null,
      "outputs": [
        {
          "output_type": "display_data",
          "data": {
            "image/png": "[encoded data removed]",
            "text/plain": [
              "<Figure size 720x720 with 16 Axes>"
            ]
          },
          "metadata": {
            "needs_background": "light"
          }
        }
      ]
    },
    {
      "cell_type": "markdown",
      "metadata": {
        "id": "FlZNi9CI_36k"
      },
      "source": [
        "There's one more additional difference between TensorFlow datasets and Numpy arrays: If you need to transform one, you would invoke the `map` method to apply the function passed as an argument to each of the elements."
      ]
    },
    {
      "cell_type": "code",
      "execution_count": null,
      "metadata": {
        "id": "-3CPgruD_36n"
      },
      "outputs": [],
      "source": [
        "def normalize(image):\n",
        "    \"\"\"\n",
        "    Transform an image into a tensor of shape (28 * 28 * 1)\n",
        "    and normalize its components.\n",
        "    \n",
        "    Arguments\n",
        "    image - Tensor.\n",
        "    \n",
        "    Returns: \n",
        "    result -- Transformed tensor \n",
        "    \"\"\"\n",
        "    image = tf.cast(image, tf.float32) / 255.0\n",
        "    image = tf.reshape(image, [-1,])\n",
        "    \n",
        "    return image"
      ]
    },
    {
      "cell_type": "code",
      "execution_count": null,
      "metadata": {
        "id": "obIFnq6K_36s"
      },
      "outputs": [],
      "source": [
        "new_train = x_train.map(normalize)\n",
        "new_test = x_test.map(normalize)"
      ]
    },
    {
      "cell_type": "code",
      "execution_count": null,
      "metadata": {
        "colab": {
          "base_uri": "https://localhost:8080/"
        },
        "id": "rbnolR1z_36u",
        "outputId": "26c4104f-6189-44fa-a210-0bffd513aec8"
      },
      "outputs": [
        {
          "output_type": "stream",
          "name": "stdout",
          "text": [
            "TensorSpec(shape=(784,), dtype=tf.float32, name=None)\n"
          ]
        }
      ],
      "source": [
        "print(new_train.element_spec)"
      ]
    },
    {
      "cell_type": "markdown",
      "metadata": {
        "id": "x6SZ70Z8_37Q"
      },
      "source": [
        "**3 - Using One Hot Encodings**\n",
        "\n",
        "Many times in deep learning you will have a $Y$ vector with numbers ranging from $0$ to $C-1$, where $C$ is the number of classes. If $C$ is for example 4, then you might have the following y vector.\n",
        "\n",
        "**[0 1 0 0]**\n",
        "\n",
        "This is called \"one hot\" encoding, because in the converted representation, exactly one element of each column is \"hot\" (meaning set to 1). To do this conversion in numpy, you might have to write a few lines of code. In TensorFlow, you can use one line of code: \n",
        "\n",
        "`axis=0` indicates the new axis is created at dimension 0\n",
        "\n",
        "**one_hot_matrix**\n",
        "\n",
        "the function below takes one label and the total number of classes $C$, and return the one hot encoding in a column wise matrix. "
      ]
    },
    {
      "cell_type": "code",
      "execution_count": null,
      "metadata": {
        "deletable": false,
        "nbgrader": {
          "cell_type": "code",
          "checksum": "44bfa91af0e57ca117ebf3acce902a28",
          "grade": false,
          "grade_id": "cell-15d9db613d8007bb",
          "locked": false,
          "schema_version": 3,
          "solution": true,
          "task": false
        },
        "id": "2imLLnau_37V"
      },
      "outputs": [],
      "source": [
        "def one_hot_matrix(label, depth=10):\n",
        "    \"\"\"\n",
        "    Computes the one hot encoding for a single label\n",
        "    \n",
        "    Arguments:\n",
        "        label --  (int) Categorical labels\n",
        "        depth --  (int) Number of different classes that label can take\n",
        "    \n",
        "    Returns:\n",
        "         one_hot -- tf.Tensor A single-column matrix with the one hot encoding.\n",
        "    \"\"\"\n",
        "    one_hot = tf.reshape(tf.one_hot(label,depth=depth,axis=0),shape=(depth,))\n",
        "    \n",
        "    return one_hot"
      ]
    },
    {
      "cell_type": "code",
      "execution_count": null,
      "metadata": {
        "id": "hZgVR11R_37Y"
      },
      "outputs": [],
      "source": [
        ""
      ]
    },
    {
      "cell_type": "code",
      "execution_count": null,
      "metadata": {
        "id": "aHsd9JIC_37g"
      },
      "outputs": [],
      "source": [
        "new_y_test = y_test.map(one_hot_matrix)\n",
        "new_y_train = y_train.map(one_hot_matrix)"
      ]
    },
    {
      "cell_type": "code",
      "execution_count": null,
      "metadata": {
        "id": "8PoCvWNs_37h"
      },
      "outputs": [],
      "source": [
        ""
      ]
    },
    {
      "cell_type": "code",
      "execution_count": null,
      "metadata": {
        "colab": {
          "base_uri": "https://localhost:8080/"
        },
        "id": "3hiaeJO7_37i",
        "outputId": "5d97e42a-3ab9-4b21-a673-d356b2d2ace3"
      },
      "outputs": [
        {
          "output_type": "stream",
          "name": "stdout",
          "text": [
            "tf.Tensor([0. 0. 0. 0. 0. 0. 0. 0. 0. 1.], shape=(10,), dtype=float32)\n"
          ]
        }
      ],
      "source": [
        "print(next(iter(new_y_test)))"
      ]
    },
    {
      "cell_type": "markdown",
      "metadata": {
        "id": "R4AWNPpS_37p"
      },
      "source": [
        "**4 Initialize the Parameters**\n",
        "\n",
        "We are implementing a 3 layer neural network (One hidden layer + Output)\n",
        "\n",
        "We initialize a vector of numbers with the Glorot initializer. The function  is `tf.keras.initializers.GlorotNormal`, which draws samples from a truncated normal distribution centered on 0, with `stddev = sqrt(2 / (fan_in + fan_out))`, where `fan_in` is the number of input units and `fan_out` is the number of output units, both in the weight tensor. \n"
      ]
    },
    {
      "cell_type": "code",
      "execution_count": null,
      "metadata": {
        "deletable": false,
        "nbgrader": {
          "cell_type": "code",
          "checksum": "da48416c74797c83152e1080b08afb9d",
          "grade": false,
          "grade_id": "cell-1d5716c48a16debf",
          "locked": false,
          "schema_version": 3,
          "solution": true,
          "task": false
        },
        "id": "KSieyWOj_37r"
      },
      "outputs": [],
      "source": [
        "def initialize_parameters(layer_dim):\n",
        "    \"\"\"\n",
        "\n",
        "    Initializes parameters to build a neural network with TensorFlow. \n",
        "\n",
        "    Arguments :\n",
        "\n",
        "    layer_dims -- list of length 3 containing node in each layer\n",
        "    \n",
        "    Returns:\n",
        "    parameters -- a dictionary of tensors containing W1, b1, W2, b2\n",
        "    \"\"\"\n",
        "\n",
        "\n",
        "    input ,hidden ,output = layer_dim\n",
        "\n",
        "    initializer = tf.keras.initializers.GlorotNormal(seed=1)   \n",
        "\n",
        "    W1 = tf.Variable(initializer(shape=(hidden,input)))\n",
        "    b1 = tf.Variable(initializer(shape=(hidden,1)))\n",
        "\n",
        "    W2 = tf.Variable(initializer(shape=(output,hidden)))\n",
        "    b2 = tf.Variable(initializer(shape=(output,1)))\n",
        "\n",
        "    parameters = {\"W1\": W1,\n",
        "                  \"b1\": b1,\n",
        "                  \"W2\": W2,\n",
        "                  \"b2\": b2\n",
        "                  }\n",
        "    \n",
        "    return parameters"
      ]
    },
    {
      "cell_type": "code",
      "execution_count": null,
      "metadata": {
        "deletable": false,
        "editable": false,
        "nbgrader": {
          "cell_type": "code",
          "checksum": "dd3fe0b5ed777771156c071d9373e47a",
          "grade": true,
          "grade_id": "cell-11012e1fada40919",
          "locked": true,
          "points": 10,
          "schema_version": 3,
          "solution": false,
          "task": false
        },
        "id": "EzvPppOh_37u"
      },
      "outputs": [],
      "source": [
        "parameters = initialize_parameters([784,1000,10])"
      ]
    },
    {
      "cell_type": "code",
      "execution_count": null,
      "metadata": {
        "id": "dQ42fr4A_37z"
      },
      "outputs": [],
      "source": [
        "assert (parameters['W1'].shape == (1000,784)),'Wrong shape of W1'\n",
        "assert (parameters['b1'].shape == (1000,1)),'Wrong shape of b1'\n",
        "assert (parameters['W2'].shape == (10,1000)),'Wrong shape of W2'\n",
        "assert (parameters['b2'].shape == (10,1)),'Wrong shape of b2'"
      ]
    },
    {
      "cell_type": "markdown",
      "metadata": {
        "id": "aeS-8xsu_371"
      },
      "source": [
        "**3 - Building Neural Network in TensorFlow**\n",
        "\n",
        "- Implement forward propagation and let tensorflow handle the backward propagation\n",
        "- Retrieve the gradients and train the model\n"
      ]
    },
    {
      "cell_type": "markdown",
      "metadata": {
        "id": "BMCyPjX-_376"
      },
      "source": [
        "**3.1 - Implement Forward Propagation**\n",
        "\n",
        "One of TensorFlow's great strengths lies in the fact that we only need to implement the forward propagation function and it will keep track of the operations we did to calculate the back propagation automatically.  \n",
        "\n"
      ]
    },
    {
      "cell_type": "code",
      "execution_count": null,
      "metadata": {
        "deletable": false,
        "nbgrader": {
          "cell_type": "code",
          "checksum": "e52024ce85f80538e02ad44ff9a6e334",
          "grade": false,
          "grade_id": "cell-23b6d82b3443e298",
          "locked": false,
          "schema_version": 3,
          "solution": true,
          "task": false
        },
        "id": "seoBjCNu_378"
      },
      "outputs": [],
      "source": [
        "def forward_propagation(X, parameters):\n",
        "\n",
        "\n",
        "    \"\"\"\n",
        "    Implements the forward propagation for the model: LINEAR -> RELU -> LINEAR -> RELU -> LINEAR\n",
        "    \n",
        "    Arguments:\n",
        "    X -- input dataset placeholder, of shape (input size, number of examples)\n",
        "    parameters -- python dictionary containing your parameters \"W1\", \"b1\", \"W2\", \"b2\", \"W3\", \"b3\"\n",
        "                  the shapes are given in initialize_parameters\n",
        "\n",
        "    Returns:\n",
        "    Z2 -- the output of the last LINEAR unit\n",
        "    \"\"\"\n",
        "    \n",
        "    # Retrieve the parameters from the dictionary \"parameters\" \n",
        "    W1 = parameters['W1']\n",
        "    b1 = parameters['b1']\n",
        "    W2 = parameters['W2']\n",
        "    b2 = parameters['b2']\n",
        "                     \n",
        "    Z1 = tf.math.add( tf.linalg.matmul(W1,X) ,b1 )                         \n",
        "    A1 = tf.keras.activations.relu(Z1)                                                           \n",
        "    Z2 = tf.math.add( tf.linalg.matmul(W2,A1) ,b2 )                                                 \n",
        "    \n",
        "    return Z2"
      ]
    },
    {
      "cell_type": "markdown",
      "metadata": {
        "id": "sTRBT453_38D"
      },
      "source": [
        "**3.2 Compute the Cost**\n",
        "\n",
        "All you have to do now is define the loss function that you're going to use. For this case, since we have a classification problem with 6 labels, a categorical cross entropy will work! "
      ]
    },
    {
      "cell_type": "code",
      "execution_count": null,
      "metadata": {
        "deletable": false,
        "nbgrader": {
          "cell_type": "code",
          "checksum": "ec62b123a471aa12f20842442c73ec68",
          "grade": false,
          "grade_id": "cell-e6cc4d7fefeed231",
          "locked": false,
          "schema_version": 3,
          "solution": true,
          "task": false
        },
        "id": "b5wxytku_38G"
      },
      "outputs": [],
      "source": [
        "def compute_cost(logits, labels):\n",
        "    \"\"\"\n",
        "    Computes the cost\n",
        "    \n",
        "    Arguments:\n",
        "    logits -- output of forward propagation (output of the last LINEAR unit), of shape (6, num_examples)\n",
        "    labels -- \"true\" labels vector, same shape as Z3\n",
        "    \n",
        "    Returns:\n",
        "    cost - Tensor of the cost function\n",
        "    \"\"\"\n",
        "    \n",
        "    #(1 line of code)\n",
        "    cost = tf.reduce_mean( tf.keras.losses.categorical_crossentropy(y_true=tf.transpose(labels),y_pred=tf.transpose(logits),from_logits=True )) \n",
        "    # YOUR CODE STARTS HERE\n",
        "    \n",
        "    \n",
        "    # YOUR CODE ENDS HERE\n",
        "    return cost"
      ]
    },
    {
      "cell_type": "markdown",
      "metadata": {
        "id": "1IQHg-cx_38O"
      },
      "source": [
        " 3.3 - Train the Model\n",
        "\n",
        "We need to specify the type of optimizer in one line, in this case `tf.keras.optimizers.Adam` (we can use other optimizers such as SGD,RMSProp etc), and then call it within the training loop. \n",
        "\n",
        "The `tape.gradient` function: this allows you to retrieve the operations recorded for automatic differentiation inside the `GradientTape` block. Then, calling the optimizer method `apply_gradients`, will apply the optimizer's update rules to each trainable parameter. At the end of this assignment, you'll find some documentation that explains this more in detail, but for now, a simple explanation will do. ;) \n",
        "\n",
        "\n",
        "Here we should take note of an important extra step that's been added to the batch training process: \n",
        "\n",
        "- `tf.Data.dataset = dataset.prefetch(8)` \n",
        "\n",
        "What this does is prevent a memory bottleneck that can occur when reading from disk. `prefetch()` sets aside some data and keeps it ready for when it's needed. It does this by creating a source dataset from your input data, applying a transformation to preprocess the data, then iterating over the dataset the specified number of elements at a time. This works because the iteration is streaming, so the data doesn't need to fit into the memory. "
      ]
    },
    {
      "cell_type": "code",
      "execution_count": null,
      "metadata": {
        "id": "exCiluoG_38Q"
      },
      "outputs": [],
      "source": [
        "def model(X_train, Y_train, learning_rate = 1e-2,\n",
        "          num_epochs = 100, minibatch_size = 32, print_cost = True):\n",
        "    \"\"\"\n",
        "    Implements a three-layer tensorflow neural network: LINEAR->RELU->LINEAR->RELU->LINEAR->SOFTMAX.\n",
        "    \n",
        "    Arguments:\n",
        "    X_train -- training set, of shape (input size = 784, number of training examples = 60000)\n",
        "    Y_train -- test set, of shape (output size = 10, number of training examples = 60000)\n",
        "  \n",
        "    learning_rate -- learning rate of the optimization\n",
        "    num_epochs -- number of epochs of the optimization loop\n",
        "\n",
        "    minibatch_size -- size of a minibatch\n",
        "    print_cost -- True to print the cost every epoch\n",
        "    \n",
        "    Returns:\n",
        "    parameters -- parameters learnt by the model. They can then be used to predict.\n",
        "    \"\"\"\n",
        "    \n",
        "    #to keep track of cost and accuracy (train and test)\n",
        "    costs = []                                       \n",
        "    train_acc = []\n",
        "    \n",
        "    # Initialize your parameters \n",
        "    parameters = initialize_parameters([784,1000,10])\n",
        "\n",
        "    W1 = parameters['W1']\n",
        "    b1 = parameters['b1']\n",
        "    W2 = parameters['W2']\n",
        "    b2 = parameters['b2']\n",
        "\n",
        "    optimizer = tf.keras.optimizers.Adam(learning_rate)\n",
        "    \n",
        "    # The CategoricalAccuracy will track the accuracy for this multiclass problem\n",
        "    train_accuracy = tf.keras.metrics.CategoricalAccuracy()\n",
        "    \n",
        "    dataset = tf.data.Dataset.zip((X_train, Y_train))\n",
        "    \n",
        "    # We can get the number of elements of a dataset using the cardinality method\n",
        "    m = dataset.cardinality().numpy()\n",
        "    \n",
        "    # Convert the data in batches (example,label) of size 32\n",
        "    minibatches = dataset.batch(minibatch_size).prefetch(8)\n",
        "\n",
        "    X_train = X_train.batch(minibatch_size, drop_remainder=True).prefetch(8)# <<< extra step    \n",
        "    Y_train = Y_train.batch(minibatch_size, drop_remainder=True).prefetch(8) # loads memory faster \n",
        "\n",
        "    # Do the training loop\n",
        "    for epoch in range(num_epochs):\n",
        "\n",
        "        epoch_cost = 0.\n",
        "        \n",
        "        #We need to reset object to start measuring from 0 the accuracy each epoch\n",
        "        train_accuracy.reset_states()\n",
        "        \n",
        "        for (minibatch_X, minibatch_Y) in minibatches :\n",
        "            \n",
        "            with tf.GradientTape() as tape:\n",
        "                # 1. predict\n",
        "                Z2 = forward_propagation(tf.transpose(minibatch_X), parameters)\n",
        "\n",
        "                # 2. loss\n",
        "                minibatch_cost = compute_cost(Z2, tf.transpose(minibatch_Y))\n",
        "\n",
        "            # We acumulate the accuracy of all the batches\n",
        "            train_accuracy.update_state(tf.transpose(Z2), minibatch_Y)\n",
        "            \n",
        "            trainable_variables = [W1, b1, W2, b2]\n",
        "            grads = tape.gradient(minibatch_cost, trainable_variables)\n",
        "            optimizer.apply_gradients(zip(grads, trainable_variables))\n",
        "            epoch_cost += minibatch_cost\n",
        "        \n",
        "        # We divide the epoch cost over the number of samples\n",
        "        epoch_cost /= m\n",
        "\n",
        "        # Print the cost and train accuracy after every epoch\n",
        "        print (\"Cost after epoch %i: %f\" % (epoch, epoch_cost))\n",
        "        print(\"Train accuracy:\", train_accuracy.result())\n",
        "            \n",
        "      \n",
        "\n",
        "        costs.append(epoch_cost)\n",
        "        train_acc.append(train_accuracy.result())\n",
        "\n",
        "    return parameters, costs, train_acc, test_acc"
      ]
    },
    {
      "cell_type": "code",
      "execution_count": null,
      "metadata": {
        "colab": {
          "base_uri": "https://localhost:8080/"
        },
        "id": "bN8B7A81_38V",
        "outputId": "5068999e-9efa-4997-cc99-776fea22355c"
      },
      "outputs": [
        {
          "output_type": "stream",
          "name": "stdout",
          "text": [
            "Cost after epoch 0: 0.017416\n",
            "Train accuracy: tf.Tensor(0.80965, shape=(), dtype=float32)\n",
            "Cost after epoch 1: 0.013734\n",
            "Train accuracy: tf.Tensor(0.84245, shape=(), dtype=float32)\n",
            "Cost after epoch 2: 0.012869\n",
            "Train accuracy: tf.Tensor(0.8527333, shape=(), dtype=float32)\n",
            "Cost after epoch 3: 0.012427\n",
            "Train accuracy: tf.Tensor(0.85801667, shape=(), dtype=float32)\n",
            "Cost after epoch 4: 0.012210\n",
            "Train accuracy: tf.Tensor(0.86005, shape=(), dtype=float32)\n",
            "Cost after epoch 5: 0.011935\n",
            "Train accuracy: tf.Tensor(0.86286664, shape=(), dtype=float32)\n",
            "Cost after epoch 6: 0.011872\n",
            "Train accuracy: tf.Tensor(0.863, shape=(), dtype=float32)\n",
            "Cost after epoch 7: 0.011555\n",
            "Train accuracy: tf.Tensor(0.86685, shape=(), dtype=float32)\n",
            "Cost after epoch 8: 0.011481\n",
            "Train accuracy: tf.Tensor(0.86808336, shape=(), dtype=float32)\n",
            "Cost after epoch 9: 0.011295\n",
            "Train accuracy: tf.Tensor(0.86906666, shape=(), dtype=float32)\n",
            "Cost after epoch 10: 0.011159\n",
            "Train accuracy: tf.Tensor(0.871, shape=(), dtype=float32)\n",
            "Cost after epoch 11: 0.011122\n",
            "Train accuracy: tf.Tensor(0.87186664, shape=(), dtype=float32)\n",
            "Cost after epoch 12: 0.011028\n",
            "Train accuracy: tf.Tensor(0.8721167, shape=(), dtype=float32)\n",
            "Cost after epoch 13: 0.011046\n",
            "Train accuracy: tf.Tensor(0.8736167, shape=(), dtype=float32)\n",
            "Cost after epoch 14: 0.010791\n",
            "Train accuracy: tf.Tensor(0.8753833, shape=(), dtype=float32)\n",
            "Cost after epoch 15: 0.010793\n",
            "Train accuracy: tf.Tensor(0.8757167, shape=(), dtype=float32)\n",
            "Cost after epoch 16: 0.010708\n",
            "Train accuracy: tf.Tensor(0.87616664, shape=(), dtype=float32)\n",
            "Cost after epoch 17: 0.010723\n",
            "Train accuracy: tf.Tensor(0.87715, shape=(), dtype=float32)\n",
            "Cost after epoch 18: 0.010720\n",
            "Train accuracy: tf.Tensor(0.87701666, shape=(), dtype=float32)\n",
            "Cost after epoch 19: 0.010528\n",
            "Train accuracy: tf.Tensor(0.8785, shape=(), dtype=float32)\n",
            "Cost after epoch 20: 0.010774\n",
            "Train accuracy: tf.Tensor(0.87726665, shape=(), dtype=float32)\n",
            "Cost after epoch 21: 0.010483\n",
            "Train accuracy: tf.Tensor(0.87923336, shape=(), dtype=float32)\n",
            "Cost after epoch 22: 0.010457\n",
            "Train accuracy: tf.Tensor(0.881, shape=(), dtype=float32)\n",
            "Cost after epoch 23: 0.010468\n",
            "Train accuracy: tf.Tensor(0.88015, shape=(), dtype=float32)\n",
            "Cost after epoch 24: 0.010345\n",
            "Train accuracy: tf.Tensor(0.8807833, shape=(), dtype=float32)\n",
            "Cost after epoch 25: 0.010382\n",
            "Train accuracy: tf.Tensor(0.88173336, shape=(), dtype=float32)\n",
            "Cost after epoch 26: 0.010302\n",
            "Train accuracy: tf.Tensor(0.8818, shape=(), dtype=float32)\n",
            "Cost after epoch 27: 0.010295\n",
            "Train accuracy: tf.Tensor(0.88145, shape=(), dtype=float32)\n",
            "Cost after epoch 28: 0.010235\n",
            "Train accuracy: tf.Tensor(0.88313335, shape=(), dtype=float32)\n",
            "Cost after epoch 29: 0.010196\n",
            "Train accuracy: tf.Tensor(0.8822333, shape=(), dtype=float32)\n",
            "Cost after epoch 30: 0.010170\n",
            "Train accuracy: tf.Tensor(0.88266665, shape=(), dtype=float32)\n",
            "Cost after epoch 31: 0.010066\n",
            "Train accuracy: tf.Tensor(0.8842, shape=(), dtype=float32)\n",
            "Cost after epoch 32: 0.010137\n",
            "Train accuracy: tf.Tensor(0.8837, shape=(), dtype=float32)\n",
            "Cost after epoch 33: 0.009921\n",
            "Train accuracy: tf.Tensor(0.8847333, shape=(), dtype=float32)\n",
            "Cost after epoch 34: 0.010034\n",
            "Train accuracy: tf.Tensor(0.88505, shape=(), dtype=float32)\n",
            "Cost after epoch 35: 0.009993\n",
            "Train accuracy: tf.Tensor(0.88551664, shape=(), dtype=float32)\n",
            "Cost after epoch 36: 0.009888\n",
            "Train accuracy: tf.Tensor(0.8860667, shape=(), dtype=float32)\n",
            "Cost after epoch 37: 0.009915\n",
            "Train accuracy: tf.Tensor(0.88661665, shape=(), dtype=float32)\n",
            "Cost after epoch 38: 0.009914\n",
            "Train accuracy: tf.Tensor(0.88585, shape=(), dtype=float32)\n",
            "Cost after epoch 39: 0.009982\n",
            "Train accuracy: tf.Tensor(0.8845, shape=(), dtype=float32)\n",
            "Cost after epoch 40: 0.009941\n",
            "Train accuracy: tf.Tensor(0.8869, shape=(), dtype=float32)\n",
            "Cost after epoch 41: 0.009790\n",
            "Train accuracy: tf.Tensor(0.88671666, shape=(), dtype=float32)\n",
            "Cost after epoch 42: 0.009789\n",
            "Train accuracy: tf.Tensor(0.8875667, shape=(), dtype=float32)\n",
            "Cost after epoch 43: 0.009949\n",
            "Train accuracy: tf.Tensor(0.88715, shape=(), dtype=float32)\n",
            "Cost after epoch 44: 0.009791\n",
            "Train accuracy: tf.Tensor(0.88736665, shape=(), dtype=float32)\n",
            "Cost after epoch 45: 0.009895\n",
            "Train accuracy: tf.Tensor(0.88703334, shape=(), dtype=float32)\n",
            "Cost after epoch 46: 0.009829\n",
            "Train accuracy: tf.Tensor(0.88731664, shape=(), dtype=float32)\n",
            "Cost after epoch 47: 0.009703\n",
            "Train accuracy: tf.Tensor(0.8875, shape=(), dtype=float32)\n",
            "Cost after epoch 48: 0.010798\n",
            "Train accuracy: tf.Tensor(0.87693334, shape=(), dtype=float32)\n",
            "Cost after epoch 49: 0.010182\n",
            "Train accuracy: tf.Tensor(0.8806667, shape=(), dtype=float32)\n",
            "Cost after epoch 50: 0.009598\n",
            "Train accuracy: tf.Tensor(0.88851666, shape=(), dtype=float32)\n",
            "Cost after epoch 51: 0.009807\n",
            "Train accuracy: tf.Tensor(0.8876, shape=(), dtype=float32)\n",
            "Cost after epoch 52: 0.009701\n",
            "Train accuracy: tf.Tensor(0.88885, shape=(), dtype=float32)\n",
            "Cost after epoch 53: 0.009633\n",
            "Train accuracy: tf.Tensor(0.8905333, shape=(), dtype=float32)\n",
            "Cost after epoch 54: 0.009702\n",
            "Train accuracy: tf.Tensor(0.8882333, shape=(), dtype=float32)\n",
            "Cost after epoch 55: 0.009576\n",
            "Train accuracy: tf.Tensor(0.88915, shape=(), dtype=float32)\n",
            "Cost after epoch 56: 0.010416\n",
            "Train accuracy: tf.Tensor(0.88013333, shape=(), dtype=float32)\n",
            "Cost after epoch 57: 0.010049\n",
            "Train accuracy: tf.Tensor(0.8843833, shape=(), dtype=float32)\n",
            "Cost after epoch 58: 0.009972\n",
            "Train accuracy: tf.Tensor(0.88488334, shape=(), dtype=float32)\n",
            "Cost after epoch 59: 0.010022\n",
            "Train accuracy: tf.Tensor(0.88553333, shape=(), dtype=float32)\n",
            "Cost after epoch 60: 0.009569\n",
            "Train accuracy: tf.Tensor(0.89026666, shape=(), dtype=float32)\n",
            "Cost after epoch 61: 0.009570\n",
            "Train accuracy: tf.Tensor(0.8913, shape=(), dtype=float32)\n",
            "Cost after epoch 62: 0.009461\n",
            "Train accuracy: tf.Tensor(0.89178336, shape=(), dtype=float32)\n",
            "Cost after epoch 63: 0.009678\n",
            "Train accuracy: tf.Tensor(0.8894, shape=(), dtype=float32)\n",
            "Cost after epoch 64: 0.009884\n",
            "Train accuracy: tf.Tensor(0.88493335, shape=(), dtype=float32)\n",
            "Cost after epoch 65: 0.010062\n",
            "Train accuracy: tf.Tensor(0.88553333, shape=(), dtype=float32)\n",
            "Cost after epoch 66: 0.009822\n",
            "Train accuracy: tf.Tensor(0.88748336, shape=(), dtype=float32)\n",
            "Cost after epoch 67: 0.009557\n",
            "Train accuracy: tf.Tensor(0.8892, shape=(), dtype=float32)\n",
            "Cost after epoch 68: 0.009847\n",
            "Train accuracy: tf.Tensor(0.88783336, shape=(), dtype=float32)\n",
            "Cost after epoch 69: 0.009868\n",
            "Train accuracy: tf.Tensor(0.88785, shape=(), dtype=float32)\n",
            "Cost after epoch 70: 0.009730\n",
            "Train accuracy: tf.Tensor(0.88878334, shape=(), dtype=float32)\n",
            "Cost after epoch 71: 0.009828\n",
            "Train accuracy: tf.Tensor(0.88785, shape=(), dtype=float32)\n",
            "Cost after epoch 72: 0.009772\n",
            "Train accuracy: tf.Tensor(0.88781667, shape=(), dtype=float32)\n",
            "Cost after epoch 73: 0.009602\n",
            "Train accuracy: tf.Tensor(0.88928336, shape=(), dtype=float32)\n",
            "Cost after epoch 74: 0.009640\n",
            "Train accuracy: tf.Tensor(0.8893333, shape=(), dtype=float32)\n",
            "Cost after epoch 75: 0.009694\n",
            "Train accuracy: tf.Tensor(0.8883167, shape=(), dtype=float32)\n",
            "Cost after epoch 76: 0.009587\n",
            "Train accuracy: tf.Tensor(0.88963336, shape=(), dtype=float32)\n",
            "Cost after epoch 77: 0.009446\n",
            "Train accuracy: tf.Tensor(0.8908, shape=(), dtype=float32)\n",
            "Cost after epoch 78: 0.009582\n",
            "Train accuracy: tf.Tensor(0.8896667, shape=(), dtype=float32)\n",
            "Cost after epoch 79: 0.009564\n",
            "Train accuracy: tf.Tensor(0.8890833, shape=(), dtype=float32)\n",
            "Cost after epoch 80: 0.009356\n",
            "Train accuracy: tf.Tensor(0.89145, shape=(), dtype=float32)\n",
            "Cost after epoch 81: 0.009536\n",
            "Train accuracy: tf.Tensor(0.89173335, shape=(), dtype=float32)\n",
            "Cost after epoch 82: 0.009510\n",
            "Train accuracy: tf.Tensor(0.89098334, shape=(), dtype=float32)\n",
            "Cost after epoch 83: 0.009723\n",
            "Train accuracy: tf.Tensor(0.88835, shape=(), dtype=float32)\n",
            "Cost after epoch 84: 0.009358\n",
            "Train accuracy: tf.Tensor(0.892, shape=(), dtype=float32)\n",
            "Cost after epoch 85: 0.009390\n",
            "Train accuracy: tf.Tensor(0.89206666, shape=(), dtype=float32)\n",
            "Cost after epoch 86: 0.009513\n",
            "Train accuracy: tf.Tensor(0.89141667, shape=(), dtype=float32)\n",
            "Cost after epoch 87: 0.009537\n",
            "Train accuracy: tf.Tensor(0.8911667, shape=(), dtype=float32)\n",
            "Cost after epoch 88: 0.009606\n",
            "Train accuracy: tf.Tensor(0.89025, shape=(), dtype=float32)\n",
            "Cost after epoch 89: 0.009398\n",
            "Train accuracy: tf.Tensor(0.8929167, shape=(), dtype=float32)\n",
            "Cost after epoch 90: 0.009429\n",
            "Train accuracy: tf.Tensor(0.89203334, shape=(), dtype=float32)\n",
            "Cost after epoch 91: 0.009273\n",
            "Train accuracy: tf.Tensor(0.8928667, shape=(), dtype=float32)\n",
            "Cost after epoch 92: 0.009500\n",
            "Train accuracy: tf.Tensor(0.89133334, shape=(), dtype=float32)\n",
            "Cost after epoch 93: 0.009291\n",
            "Train accuracy: tf.Tensor(0.893, shape=(), dtype=float32)\n",
            "Cost after epoch 94: 0.009475\n",
            "Train accuracy: tf.Tensor(0.8903667, shape=(), dtype=float32)\n",
            "Cost after epoch 95: 0.009299\n",
            "Train accuracy: tf.Tensor(0.8926833, shape=(), dtype=float32)\n",
            "Cost after epoch 96: 0.009209\n",
            "Train accuracy: tf.Tensor(0.89243335, shape=(), dtype=float32)\n",
            "Cost after epoch 97: 0.009405\n",
            "Train accuracy: tf.Tensor(0.89215, shape=(), dtype=float32)\n",
            "Cost after epoch 98: 0.009633\n",
            "Train accuracy: tf.Tensor(0.88951665, shape=(), dtype=float32)\n",
            "Cost after epoch 99: 0.009272\n",
            "Train accuracy: tf.Tensor(0.8930333, shape=(), dtype=float32)\n"
          ]
        }
      ],
      "source": [
        "parameters, costs, train_acc, test_acc = model(new_train, new_y_train, num_epochs=100)"
      ]
    },
    {
      "cell_type": "code",
      "source": [
        "def evaluate_on_test(x_test,y_test,parameters) :\n",
        "\n",
        "  '''evaluate the model on a test data\n",
        "  Arguments :\n",
        "  x_test -- test data (num_features ,num_examples)\n",
        "  y_test -- test labels (num_classes,num_examples)\n",
        "  '''\n",
        "\n",
        "  #Convert the data and label into batches \n",
        "  test_dataset = tf.data.Dataset.zip((x_test, y_test)) \n",
        "\n",
        "  test_minibatches = test_dataset.batch(1).prefetch(8)\n",
        "\n",
        "  test_accuracy = tf.keras.metrics.CategoricalAccuracy()\n",
        "\n",
        "  #\n",
        "  for (minibatch_X, minibatch_Y) in test_minibatches:\n",
        "      Z2 = forward_propagation(tf.transpose(minibatch_X), parameters)\n",
        "      test_accuracy.update_state(tf.transpose(Z2), minibatch_Y)\n",
        "\n",
        "  print(\"Test_accuracy:\", test_accuracy.result())"
      ],
      "metadata": {
        "id": "QoTaht37a8Wi"
      },
      "execution_count": null,
      "outputs": []
    },
    {
      "cell_type": "code",
      "source": [
        "evaluate_on_test(new_test, new_y_test,parameters)"
      ],
      "metadata": {
        "colab": {
          "base_uri": "https://localhost:8080/"
        },
        "id": "GCvUy3ezgCV1",
        "outputId": "5a691202-b191-4a87-b3e2-f54250d752f9"
      },
      "execution_count": null,
      "outputs": [
        {
          "output_type": "stream",
          "name": "stdout",
          "text": [
            "Test_accuracy: tf.Tensor(0.821, shape=(), dtype=float32)\n"
          ]
        }
      ]
    },
    {
      "cell_type": "code",
      "execution_count": null,
      "metadata": {
        "colab": {
          "base_uri": "https://localhost:8080/",
          "height": 295
        },
        "id": "VxiINPnc_38a",
        "outputId": "7dacd252-55ac-43e3-dee2-b9362f0b8e2e"
      },
      "outputs": [
        {
          "output_type": "display_data",
          "data": {
            "image/png": "[encoded data removed]",
            "text/plain": [
              "<Figure size 432x288 with 1 Axes>"
            ]
          },
          "metadata": {
            "needs_background": "light"
          }
        }
      ],
      "source": [
        "# Plot the cost\n",
        "plt.plot(np.squeeze(costs))\n",
        "plt.ylabel('cost')\n",
        "plt.xlabel('iterations (per fives)')\n",
        "plt.title(\"Learning rate =\" + str(0.01))\n",
        "plt.show()\n"
      ]
    },
    {
      "cell_type": "code",
      "execution_count": null,
      "metadata": {
        "colab": {
          "base_uri": "https://localhost:8080/",
          "height": 312
        },
        "id": "Nze2Z1yL_38e",
        "outputId": "8e2ebbc0-1338-471f-ef6e-e46b72e90cc2"
      },
      "outputs": [
        {
          "output_type": "execute_result",
          "data": {
            "text/plain": [
              "Text(0.5, 1.0, 'Learning rate =0.01')"
            ]
          },
          "metadata": {},
          "execution_count": 62
        },
        {
          "output_type": "display_data",
          "data": {
            "image/png": "[encoded data removed]",
            "text/plain": [
              "<Figure size 432x288 with 1 Axes>"
            ]
          },
          "metadata": {
            "needs_background": "light"
          }
        }
      ],
      "source": [
        "# Plot the train accuracy\n",
        "plt.plot(np.squeeze(train_acc))\n",
        "plt.ylabel('Train Accuracy')\n",
        "plt.xlabel('iterations (per fives)')\n",
        "plt.title(\"Learning rate =\" + str(0.01))\n",
        "\n"
      ]
    }
  ],
  "metadata": {
    "kernelspec": {
      "display_name": "Python 3",
      "language": "python",
      "name": "python3"
    },
    "language_info": {
      "codemirror_mode": {
        "name": "ipython",
        "version": 3
      },
      "file_extension": ".py",
      "mimetype": "text/x-python",
      "name": "python",
      "nbconvert_exporter": "python",
      "pygments_lexer": "ipython3",
      "version": "3.7.6"
    },
    "colab": {
      "name": "GradientTape_fashion_mnist.ipynb",
      "provenance": [],
      "collapsed_sections": []
    },
    "accelerator": "GPU"
  },
  "nbformat": 4,
  "nbformat_minor": 0
}